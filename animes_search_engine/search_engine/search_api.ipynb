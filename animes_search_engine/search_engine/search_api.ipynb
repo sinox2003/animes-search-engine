{
 "cells": [
  {
   "cell_type": "code",
   "execution_count": null,
   "metadata": {},
   "outputs": [],
   "source": [
    "# !pip install fastapi uvicorn nltk rapidfuzz pickle-mixin numpy\n"
   ]
  },
  {
   "cell_type": "code",
   "execution_count": 10,
   "metadata": {},
   "outputs": [],
   "source": [
    "from fastapi import FastAPI\n",
    "import string\n",
    "import nltk\n",
    "from nltk.corpus import stopwords\n",
    "from nltk.stem import WordNetLemmatizer\n",
    "from nltk.stem import PorterStemmer\n",
    "import pickle\n",
    "from rapidfuzz import process\n",
    "import json\n",
    "import nest_asyncio \n",
    "import glob\n",
    "import os\n",
    "\n",
    "import uvicorn\n",
    "from fastapi.middleware.cors import CORSMiddleware\n",
    "\n"
   ]
  },
  {
   "cell_type": "code",
   "execution_count": null,
   "metadata": {},
   "outputs": [],
   "source": [
    "nltk.download('stopwords')\n",
    "nltk.download('wordnet')\n",
    "lemmatizer = WordNetLemmatizer()\n",
    "ps = PorterStemmer()\n",
    "stop_words = set(stopwords.words('english'))"
   ]
  },
  {
   "cell_type": "code",
   "execution_count": 8,
   "metadata": {},
   "outputs": [],
   "source": [
    "#lower, remove punctuations , remove stop words , tokenize input\n",
    "def filter_text(input_string , string , stop_words):\n",
    "    tokenized_input = input_string.translate(str.maketrans('', '', string.punctuation)).lower().split()\n",
    "    filterd_tokenized_input = [w for w in tokenized_input if not w in stop_words]\n",
    "    filterd_tokenized_input = [ps.stem(lemmatizer.lemmatize(i)) for i in filterd_tokenized_input ]\n",
    "    return filterd_tokenized_input\n"
   ]
  },
  {
   "cell_type": "code",
   "execution_count": 11,
   "metadata": {},
   "outputs": [],
   "source": [
    "#loading the bm25 model\n",
    "with open(r\"models\\model.pkl\", 'rb') as file:\n",
    "    model = pickle.load(file)\n",
    "\n",
    "# loading the flatten corpus for the fuzzy search\n",
    "with open('flatten_corpus.json', 'r', encoding='utf-8') as json_file:\n",
    "    flatten_corpus = json.load(json_file)\n",
    "\n",
    "# loading the the pdfs jsons : results\n",
    "with open('animes_data.json', 'r', encoding='utf-8') as json_file:\n",
    "    animes_json = json.load(json_file)"
   ]
  },
  {
   "cell_type": "code",
   "execution_count": null,
   "metadata": {},
   "outputs": [],
   "source": [
    "print([anime[\"image\"] for anime in animes_json])"
   ]
  },
  {
   "cell_type": "code",
   "execution_count": 14,
   "metadata": {},
   "outputs": [],
   "source": [
    "app = FastAPI()\n",
    "\n",
    "app.add_middleware(\n",
    "    CORSMiddleware,\n",
    "    allow_origins=[\"*\"],  # React app URL\n",
    "    allow_credentials=True,\n",
    "    allow_methods=[\"*\"],\n",
    "    allow_headers=[\"*\"],\n",
    ")"
   ]
  },
  {
   "cell_type": "code",
   "execution_count": 15,
   "metadata": {},
   "outputs": [],
   "source": [
    "doc_names = [anime['doc_name'] for anime in animes_json]\n"
   ]
  },
  {
   "cell_type": "code",
   "execution_count": 16,
   "metadata": {},
   "outputs": [],
   "source": [
    "@app.get(\"/search\")\n",
    "def anime_search(query : str):\n",
    "\n",
    "\n",
    "    tokenized_query = query.translate(str.maketrans('', '', string.punctuation)).lower().split()\n",
    "\n",
    "    fuzzy_tokenized_query_list = []\n",
    "    correct_querry_options = []\n",
    "\n",
    "    for q in tokenized_query:\n",
    "        if len(q) <= 2:\n",
    "            q=q\n",
    "            p=[q]\n",
    "        else :\n",
    "            options = process.extract(q,flatten_corpus,limit=3)\n",
    "            print(options)\n",
    "            p = [option[0] for option in options] if options[0][1] != 100.0 else [options[0][0]]\n",
    "            fuzzy_query = process.extractOne(q, flatten_corpus)\n",
    "            q = fuzzy_query[0] if fuzzy_query[1] > 79 else q\n",
    "            \n",
    "        fuzzy_tokenized_query_list.append(q)\n",
    "        correct_querry_options.append(p)\n",
    "\n",
    "    fuzzy_tokenized_query = ' '.join(fuzzy_tokenized_query_list)\n",
    "\n",
    "    fuzzy_tokenized_cleaned_query = filter_text(fuzzy_tokenized_query , string , stop_words)\n",
    "    \n",
    "    result = model.get_top_n(fuzzy_tokenized_cleaned_query , doc_names, n = 100)\n",
    "    print({'correct_query':correct_querry_options,'results':result})\n",
    "\n",
    "    return {'correct_query':correct_querry_options,'results':result}\n"
   ]
  },
  {
   "cell_type": "code",
   "execution_count": null,
   "metadata": {},
   "outputs": [
    {
     "name": "stderr",
     "output_type": "stream",
     "text": [
      "INFO:     Started server process [20984]\n",
      "INFO:     Waiting for application startup.\n",
      "INFO:     Application startup complete.\n",
      "INFO:     Uvicorn running on http://127.0.0.1:8000 (Press CTRL+C to quit)\n"
     ]
    }
   ],
   "source": [
    "\n",
    "nest_asyncio.apply()\n",
    "uvicorn.run(app, port=8000)"
   ]
  }
 ],
 "metadata": {
  "kernelspec": {
   "display_name": "Python 3",
   "language": "python",
   "name": "python3"
  },
  "language_info": {
   "codemirror_mode": {
    "name": "ipython",
    "version": 3
   },
   "file_extension": ".py",
   "mimetype": "text/x-python",
   "name": "python",
   "nbconvert_exporter": "python",
   "pygments_lexer": "ipython3",
   "version": "3.12.8"
  }
 },
 "nbformat": 4,
 "nbformat_minor": 2
}
